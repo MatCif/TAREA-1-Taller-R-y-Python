{
  "cells": [
    {
      "cell_type": "markdown",
      "metadata": {
        "id": "rYeMBlnUYOx9"
      },
      "source": [
        "a) Leer el archivo en un DataFrame:"
      ]
    },
    {
      "cell_type": "code",
      "execution_count": 2,
      "metadata": {
        "id": "soZlKbTlXtsI"
      },
      "outputs": [],
      "source": [
        "import pandas as pd\n",
        "\n",
        "df = pd.read_excel('simce8b2019_rbd.xlsx')\n"
      ]
    },
    {
      "cell_type": "markdown",
      "metadata": {
        "id": "QXyN2z4OYSof"
      },
      "source": [
        "b) Ver el nombre de las columnas y el contenido del DataFrame:\n",
        "\n"
      ]
    },
    {
      "cell_type": "code",
      "execution_count": 3,
      "metadata": {
        "colab": {
          "base_uri": "https://localhost:8080/"
        },
        "id": "RIKPSQVxYP6T",
        "outputId": "a4d3fff9-d910-45a0-b37a-12af930b67da"
      },
      "outputs": [
        {
          "name": "stdout",
          "output_type": "stream",
          "text": [
            "Index(['agno', 'grado', 'rbd', 'dvrbd', 'nom_rbd', 'cod_reg_rbd',\n",
            "       'nom_reg_rbd', 'cod_pro_rbd', 'nom_pro_rbd', 'cod_com_rbd',\n",
            "       'nom_com_rbd', 'cod_deprov_rbd', 'nom_deprov_rbd', 'cod_depe1',\n",
            "       'cod_depe2', 'cod_grupo', 'cod_rural_rbd', 'nalu_lect8b_rbd',\n",
            "       'nalu_mate8b_rbd', 'nalu_soc8b_rbd', 'prom_lect8b_rbd',\n",
            "       'prom_mate8b_rbd', 'prom_soc8b_rbd', 'dif_lect8b_rbd', 'dif_mate8b_rbd',\n",
            "       'dif_soc8b_rbd', 'difgru_lect8b_rbd', 'difgru_mate8b_rbd',\n",
            "       'difgru_soc8b_rbd', 'sigdif_lect8b_rbd', 'sigdif_mate8b_rbd',\n",
            "       'sigdif_soc8b_rbd', 'siggru_lect8b_rbd', 'siggru_mate8b_rbd',\n",
            "       'siggru_soc8b_rbd', 'marca_lect8b_rbd', 'marca_mate8b_rbd',\n",
            "       'marca_soc8b_rbd', 'marcadif_lect8b_rbd', 'marcadif_mate8b_rbd',\n",
            "       'marcadif_soc8b_rbd', 'noaplica', 'fecha_bbdd', 'codigo_bbdd'],\n",
            "      dtype='object')\n",
            "agno                     int64\n",
            "grado                   object\n",
            "rbd                      int64\n",
            "dvrbd                    int64\n",
            "nom_rbd                 object\n",
            "cod_reg_rbd              int64\n",
            "nom_reg_rbd             object\n",
            "cod_pro_rbd              int64\n",
            "nom_pro_rbd             object\n",
            "cod_com_rbd              int64\n",
            "nom_com_rbd             object\n",
            "cod_deprov_rbd           int64\n",
            "nom_deprov_rbd          object\n",
            "cod_depe1                int64\n",
            "cod_depe2                int64\n",
            "cod_grupo              float64\n",
            "cod_rural_rbd            int64\n",
            "nalu_lect8b_rbd        float64\n",
            "nalu_mate8b_rbd        float64\n",
            "nalu_soc8b_rbd         float64\n",
            "prom_lect8b_rbd        float64\n",
            "prom_mate8b_rbd        float64\n",
            "prom_soc8b_rbd         float64\n",
            "dif_lect8b_rbd         float64\n",
            "dif_mate8b_rbd         float64\n",
            "dif_soc8b_rbd          float64\n",
            "difgru_lect8b_rbd      float64\n",
            "difgru_mate8b_rbd      float64\n",
            "difgru_soc8b_rbd       float64\n",
            "sigdif_lect8b_rbd      float64\n",
            "sigdif_mate8b_rbd      float64\n",
            "sigdif_soc8b_rbd       float64\n",
            "siggru_lect8b_rbd      float64\n",
            "siggru_mate8b_rbd      float64\n",
            "siggru_soc8b_rbd       float64\n",
            "marca_lect8b_rbd       float64\n",
            "marca_mate8b_rbd       float64\n",
            "marca_soc8b_rbd        float64\n",
            "marcadif_lect8b_rbd    float64\n",
            "marcadif_mate8b_rbd    float64\n",
            "marcadif_soc8b_rbd     float64\n",
            "noaplica                 int64\n",
            "fecha_bbdd               int64\n",
            "codigo_bbdd             object\n",
            "dtype: object\n",
            "         agno           rbd        dvrbd  cod_reg_rbd  cod_pro_rbd  \\\n",
            "count  5978.0   5978.000000  5978.000000  5978.000000  5978.000000   \n",
            "mean   2019.0  10297.982101     4.474072     9.259953    94.645868   \n",
            "std       0.0   8463.369768     2.875723     3.816610    37.895062   \n",
            "min    2019.0      5.000000     0.000000     1.000000    11.000000   \n",
            "25%    2019.0   3672.250000     2.000000     6.000000    61.000000   \n",
            "50%    2019.0   8536.500000     4.000000     9.000000    91.000000   \n",
            "75%    2019.0  14313.750000     7.000000    13.000000   131.000000   \n",
            "max    2019.0  41135.000000     9.000000    16.000000   163.000000   \n",
            "\n",
            "        cod_com_rbd  cod_deprov_rbd    cod_depe1    cod_depe2    cod_grupo  \\\n",
            "count   5978.000000     5978.000000  5978.000000  5978.000000  5953.000000   \n",
            "mean    9470.877384       95.176815     2.554366     1.587822     2.493197   \n",
            "std     3791.668317       38.679176     0.946700     0.633459     1.144321   \n",
            "min     1101.000000       11.000000     1.000000     1.000000     1.000000   \n",
            "25%     6114.000000       61.000000     2.000000     1.000000     2.000000   \n",
            "50%     9114.000000       92.000000     3.000000     2.000000     2.000000   \n",
            "75%    13119.000000      133.000000     3.000000     2.000000     3.000000   \n",
            "max    16305.000000      161.000000     6.000000     3.000000     5.000000   \n",
            "\n",
            "       ...  siggru_mate8b_rbd  siggru_soc8b_rbd  marca_lect8b_rbd  \\\n",
            "count  ...        5514.000000       5506.000000              42.0   \n",
            "mean   ...          -0.108270         -0.046313               1.0   \n",
            "std    ...           0.823248          0.770858               0.0   \n",
            "min    ...          -1.000000         -1.000000               1.0   \n",
            "25%    ...          -1.000000         -1.000000               1.0   \n",
            "50%    ...           0.000000          0.000000               1.0   \n",
            "75%    ...           1.000000          1.000000               1.0   \n",
            "max    ...           1.000000          1.000000               1.0   \n",
            "\n",
            "       marca_mate8b_rbd  marca_soc8b_rbd  marcadif_lect8b_rbd  \\\n",
            "count              44.0             39.0           698.000000   \n",
            "mean                1.0              1.0             1.332378   \n",
            "std                 0.0              0.0             0.745034   \n",
            "min                 1.0              1.0             1.000000   \n",
            "25%                 1.0              1.0             1.000000   \n",
            "50%                 1.0              1.0             1.000000   \n",
            "75%                 1.0              1.0             1.000000   \n",
            "max                 1.0              1.0             3.000000   \n",
            "\n",
            "       marcadif_mate8b_rbd  marcadif_soc8b_rbd     noaplica  fecha_bbdd  \n",
            "count           698.000000          878.000000  5978.000000      5978.0  \n",
            "mean              1.343840            1.708428     0.006691  20200807.0  \n",
            "std               0.755163            0.957094     0.125228         0.0  \n",
            "min               1.000000            1.000000     0.000000  20200807.0  \n",
            "25%               1.000000            1.000000     0.000000  20200807.0  \n",
            "50%               1.000000            1.000000     0.000000  20200807.0  \n",
            "75%               1.000000            3.000000     0.000000  20200807.0  \n",
            "max               3.000000            3.000000     5.000000  20200807.0  \n",
            "\n",
            "[8 rows x 37 columns]\n"
          ]
        }
      ],
      "source": [
        "# Nombre de las columnas\n",
        "print(df.columns)\n",
        "\n",
        "# Tipos de datos en el DataFrame\n",
        "print(df.dtypes)\n",
        "\n",
        "# Resumen estadístico del DataFrame\n",
        "print(df.describe())\n"
      ]
    },
    {
      "cell_type": "markdown",
      "metadata": {
        "id": "jos1DKQQYjgT"
      },
      "source": [
        "c) Número de filas del DataFrame:\n",
        "\n"
      ]
    },
    {
      "cell_type": "code",
      "execution_count": 4,
      "metadata": {
        "colab": {
          "base_uri": "https://localhost:8080/"
        },
        "id": "1VHkKcjsYj-b",
        "outputId": "2c681a17-4f03-401f-b56e-1abb78eeebdd"
      },
      "outputs": [
        {
          "name": "stdout",
          "output_type": "stream",
          "text": [
            "Número de filas del DataFrame: 5978\n"
          ]
        }
      ],
      "source": [
        "num_filas = len(df)\n",
        "print(f'Número de filas del DataFrame: {num_filas}')\n"
      ]
    },
    {
      "cell_type": "markdown",
      "metadata": {
        "id": "_8vHwH7oYoFD"
      },
      "source": [
        "d) Eliminar las filas que contienen NA en columnas que comienzan con \"prom\":\n",
        "\n"
      ]
    },
    {
      "cell_type": "code",
      "execution_count": 5,
      "metadata": {
        "id": "a5cUM1dZYnv7"
      },
      "outputs": [],
      "source": [
        "df = df.dropna(subset=[col for col in df.columns if col.startswith('prom')], how='any')\n"
      ]
    },
    {
      "cell_type": "markdown",
      "metadata": {
        "id": "WC5qsAvsY7Y2"
      },
      "source": [
        "e) Calcular el porcentaje de datos borrados:"
      ]
    },
    {
      "cell_type": "code",
      "execution_count": 6,
      "metadata": {
        "colab": {
          "base_uri": "https://localhost:8080/"
        },
        "id": "hAO8-6vQY64j",
        "outputId": "a0e547ba-5c64-4f69-8c3e-a8a2ba6f26c7"
      },
      "outputs": [
        {
          "name": "stdout",
          "output_type": "stream",
          "text": [
            "Porcentaje de datos borrados: 1.22%\n"
          ]
        }
      ],
      "source": [
        "porcentaje_borrado = ((num_filas - len(df)) / num_filas) * 100\n",
        "print(f'Porcentaje de datos borrados: {porcentaje_borrado:.2f}%')\n"
      ]
    },
    {
      "cell_type": "markdown",
      "metadata": {
        "id": "IeUJKHvfZNjV"
      },
      "source": [
        "f) Crear una nueva columna \"tipo_dependencia\" basada en \"cod_depe2\":"
      ]
    },
    {
      "cell_type": "code",
      "execution_count": 7,
      "metadata": {
        "id": "X_BBZffmZMjc"
      },
      "outputs": [],
      "source": [
        "def obtener_tipo_dependencia(codigo):\n",
        "    if codigo == 1:\n",
        "        return 'Municipal'\n",
        "    elif codigo == 2:\n",
        "        return 'Particular Subvencionado'\n",
        "    elif codigo == 3:\n",
        "        return 'Particular Pagado'\n",
        "    elif codigo == 4:\n",
        "        return 'Servicio Local de Educación'\n",
        "    else:\n",
        "        return 'Desconocido'\n",
        "\n",
        "df['tipo_dependencia'] = df['cod_depe2'].apply(obtener_tipo_dependencia)\n"
      ]
    },
    {
      "cell_type": "markdown",
      "metadata": {
        "id": "-kv0FbuUaF5U"
      },
      "source": [
        "g) Filtre los datos de tal modo que solo aparezcan datos de la región escogida"
      ]
    },
    {
      "cell_type": "code",
      "execution_count": 8,
      "metadata": {
        "id": "c1kV3isPaSQS"
      },
      "outputs": [],
      "source": [
        "# Filtrar datos para la Región de Los Ríos\n",
        "region_seleccionada = \"DE LOS RÍOS\"\n",
        "df_los_rios = df[df['nom_reg_rbd'] == region_seleccionada]"
      ]
    },
    {
      "cell_type": "markdown",
      "metadata": {
        "id": "whDObmWBaUTj"
      },
      "source": [
        "h) Determine el puntaje promedio por tipo de dependencia. Indique cuál es la prueba que\n",
        "presenta más diferencia en sus resultados según tipo de dependencia del\n",
        "establecimiento"
      ]
    },
    {
      "cell_type": "code",
      "execution_count": 9,
      "metadata": {
        "colab": {
          "base_uri": "https://localhost:8080/"
        },
        "id": "EtJqLdTAbuIT",
        "outputId": "c6b394b7-e655-4c74-e3cb-f33b05c257fd"
      },
      "outputs": [
        {
          "name": "stdout",
          "output_type": "stream",
          "text": [
            "cod_depe1                         4.000000\n",
            "puntaje_promedio_lectura        274.666667\n",
            "puntaje_promedio_matematicas    307.666667\n",
            "puntaje_promedio_sociedad       284.833333\n",
            "Name: 3, dtype: float64\n"
          ]
        }
      ],
      "source": [
        "puntaje_promedio_tipo_dependencia = df_los_rios.groupby('cod_depe1').agg(\n",
        "    puntaje_promedio_lectura=('prom_lect8b_rbd', 'mean'),\n",
        "    puntaje_promedio_matematicas=('prom_mate8b_rbd', 'mean'),\n",
        "    puntaje_promedio_sociedad=('prom_soc8b_rbd', 'mean')\n",
        ").reset_index()\n",
        "\n",
        "\n",
        "# Encontrar la prueba con mayor diferencia por tipo de dependencia\n",
        "pruebas = ['lectura', 'matematicas', 'sociedad']\n",
        "max_diferencia = None\n",
        "for prueba in pruebas:\n",
        "    diferencia_column = f'puntaje_promedio_{prueba}'\n",
        "    max_diferencia_prueba = puntaje_promedio_tipo_dependencia[\n",
        "        diferencia_column].idxmax()\n",
        "    if max_diferencia is None or \\\n",
        "            puntaje_promedio_tipo_dependencia[diferencia_column].max() > \\\n",
        "            puntaje_promedio_tipo_dependencia[max_diferencia].max():\n",
        "        max_diferencia = diferencia_column\n",
        "\n",
        "# Obtener el resultado para la prueba con mayor diferencia\n",
        "resultado_tipo_dependencia = puntaje_promedio_tipo_dependencia.loc[\n",
        "    puntaje_promedio_tipo_dependencia[max_diferencia].idxmax()]\n",
        "\n",
        "print(resultado_tipo_dependencia)"
      ]
    },
    {
      "cell_type": "markdown",
      "metadata": {
        "id": "MgixCSjjc1XB"
      },
      "source": [
        "i) Determine el puntaje promedio por grupo socioeconómico. Indique cuál es la prueba que\n",
        "presenta más diferencia en sus resultados según grupo socioeconómico"
      ]
    },
    {
      "cell_type": "code",
      "execution_count": 10,
      "metadata": {
        "colab": {
          "base_uri": "https://localhost:8080/"
        },
        "id": "uNLbRdrmc0na",
        "outputId": "8a556a01-c8a3-4a1b-b7ae-68fb8f876d48"
      },
      "outputs": [
        {
          "name": "stdout",
          "output_type": "stream",
          "text": [
            "cod_grupo                         5.000000\n",
            "puntaje_promedio_lectura        274.666667\n",
            "puntaje_promedio_matematicas    307.666667\n",
            "puntaje_promedio_sociedad       284.833333\n",
            "Name: 4, dtype: float64\n"
          ]
        }
      ],
      "source": [
        "puntaje_promedio_grupo_socioeconomico = df_los_rios.groupby('cod_grupo').agg(\n",
        "    puntaje_promedio_lectura=('prom_lect8b_rbd', 'mean'),\n",
        "    puntaje_promedio_matematicas=('prom_mate8b_rbd', 'mean'),\n",
        "    puntaje_promedio_sociedad=('prom_soc8b_rbd', 'mean')\n",
        ").reset_index()\n",
        "\n",
        "# Encontrar la prueba con mayor diferencia por grupo socioeconómico\n",
        "pruebas = ['lectura', 'matematicas', 'sociedad']\n",
        "max_diferencia = None\n",
        "for prueba in pruebas:\n",
        "    diferencia_column = f'puntaje_promedio_{prueba}'\n",
        "    max_diferencia_prueba = puntaje_promedio_grupo_socioeconomico[\n",
        "        diferencia_column].idxmax()\n",
        "    if max_diferencia is None or \\\n",
        "            puntaje_promedio_grupo_socioeconomico[diferencia_column].max() > \\\n",
        "            puntaje_promedio_grupo_socioeconomico[max_diferencia].max():\n",
        "        max_diferencia = diferencia_column\n",
        "\n",
        "# Obtener el resultado para la prueba con mayor diferencia\n",
        "resultado_grupo_socioeconomico = puntaje_promedio_grupo_socioeconomico.loc[\n",
        "    puntaje_promedio_grupo_socioeconomico[max_diferencia].idxmax()]\n",
        "print(resultado_grupo_socioeconomico)"
      ]
    },
    {
      "cell_type": "markdown",
      "metadata": {
        "id": "LyDbMMvwdPvq"
      },
      "source": [
        "j) Determine el puntaje promedio de lenguaje, matemáticas, y ciencias sociales para cada\n",
        "comuna (de la región que usted escogió anteriormente); además, obtenga el número de\n",
        "establecimientos educacionales que rindió la prueba de lectura del SIMCE en cada\n",
        "comuna. Hint: Puede usar como argumento ‘count’ en el método ‘.agg’ para contar el\n",
        "número de casos, similar al uso de otros argumentos como ‘mean’, ‘min’, ‘max’."
      ]
    },
    {
      "cell_type": "code",
      "execution_count": 11,
      "metadata": {
        "id": "g4omQQT0dd3D"
      },
      "outputs": [],
      "source": [
        "puntaje_promedio_comuna = df_los_rios.groupby('nom_com_rbd').agg(\n",
        "    puntaje_promedio_lectura=('prom_lect8b_rbd', 'mean'),\n",
        "    puntaje_promedio_matematicas=('prom_mate8b_rbd', 'mean'),\n",
        "    puntaje_promedio_sociedad=('prom_soc8b_rbd', 'mean'),\n",
        "    numero_establecimientos_lectura=('prom_lect8b_rbd', 'count')\n",
        ").reset_index()"
      ]
    },
    {
      "cell_type": "markdown",
      "metadata": {
        "id": "URMhSceude1T"
      },
      "source": [
        "k) En el dataframe obtenido en el punto anterior, cree una columna con el promedio del\n",
        "puntaje promedio de las tres pruebas (para cada comuna). Ordene el dataframe en orden\n",
        "descendiente en esta nueva variable. Hint: antes de empezar, se recomienda imprimir\n",
        "primero el nombre de las columnas del dataframe obtenido en el punto anterior. En caso\n",
        "de que el nombre de las columnas sea una tupla, del estilo (‘a’,’b’), entonces para luego\n",
        "acceder a esa columna, se hace del modo df[(‘a’,’b’)]."
      ]
    },
    {
      "cell_type": "code",
      "execution_count": 12,
      "metadata": {
        "colab": {
          "base_uri": "https://localhost:8080/",
          "height": 245
        },
        "id": "4w6kvy1RdtD7",
        "outputId": "08da0e90-1752-4fb5-f7c9-55a644a3dbb8"
      },
      "outputs": [
        {
          "name": "stdout",
          "output_type": "stream",
          "text": [
            "   nom_com_rbd  puntaje_promedio_lectura  puntaje_promedio_matematicas  \\\n",
            "11       VALDI                245.653846                    261.269231   \n",
            "3         LAGO                241.600000                    235.000000   \n",
            "4        LANCO                234.600000                    243.100000   \n",
            "2        LA UN                238.083333                    243.083333   \n",
            "10       RÍO B                235.666667                    242.166667   \n",
            "8        PAILL                233.300000                    238.700000   \n",
            "5        LOS L                230.363636                    243.909091   \n",
            "1        FUTRO                233.555556                    236.333333   \n",
            "6        MARIQ                228.000000                    235.692308   \n",
            "9        PANGU                232.153846                    233.576923   \n",
            "7        MÁFIL                226.500000                    228.000000   \n",
            "0        CORRA                209.000000                    222.333333   \n",
            "\n",
            "    puntaje_promedio_sociedad  numero_establecimientos_lectura  \\\n",
            "11                 251.557692                               52   \n",
            "3                  249.800000                                5   \n",
            "4                  244.700000                               10   \n",
            "2                  240.958333                               24   \n",
            "10                 240.555556                               18   \n",
            "8                  240.500000                               10   \n",
            "5                  236.545455                               11   \n",
            "1                  238.111111                                9   \n",
            "6                  238.692308                               13   \n",
            "9                  236.538462                               26   \n",
            "7                  229.500000                                2   \n",
            "0                  225.333333                                3   \n",
            "\n",
            "    promedio_tres_pruebas  \n",
            "11             252.826923  \n",
            "3              242.133333  \n",
            "4              240.800000  \n",
            "2              240.708333  \n",
            "10             239.462963  \n",
            "8              237.500000  \n",
            "5              236.939394  \n",
            "1              236.000000  \n",
            "6              234.128205  \n",
            "9              234.089744  \n",
            "7              228.000000  \n",
            "0              218.888889  \n"
          ]
        }
      ],
      "source": [
        "puntaje_promedio_comuna['promedio_tres_pruebas'] = puntaje_promedio_comuna[\n",
        "    ['puntaje_promedio_lectura', 'puntaje_promedio_matematicas', 'puntaje_promedio_sociedad']].mean(axis=1)\n",
        "\n",
        "puntaje_promedio_comuna = puntaje_promedio_comuna.sort_values(\n",
        "    by='promedio_tres_pruebas', ascending=False)\n",
        "\n",
        "print(puntaje_promedio_comuna)"
      ]
    }
  ],
  "metadata": {
    "colab": {
      "provenance": []
    },
    "kernelspec": {
      "display_name": "Python 3",
      "name": "python3"
    },
    "language_info": {
      "codemirror_mode": {
        "name": "ipython",
        "version": 3
      },
      "file_extension": ".py",
      "mimetype": "text/x-python",
      "name": "python",
      "nbconvert_exporter": "python",
      "pygments_lexer": "ipython3",
      "version": "3.8.8"
    }
  },
  "nbformat": 4,
  "nbformat_minor": 0
}
